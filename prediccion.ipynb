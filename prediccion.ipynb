{
 "cells": [
  {
   "cell_type": "code",
   "execution_count": 50,
   "metadata": {},
   "outputs": [],
   "source": [
    "import tensorflow as tf\n",
    "import numpy as np\n",
    "import matplotlib.pyplot as plt\n",
    "import PIL"
   ]
  },
  {
   "cell_type": "code",
   "execution_count": 51,
   "metadata": {},
   "outputs": [],
   "source": [
    "model = tf.keras.applications.InceptionV3(weights='imagenet', include_top=True)"
   ]
  },
  {
   "cell_type": "code",
   "execution_count": 52,
   "metadata": {},
   "outputs": [
    {
     "name": "stdout",
     "output_type": "stream",
     "text": [
      "(1, 299, 299, 3)\n"
     ]
    }
   ],
   "source": [
    "image_path = \"uno.jpg\"\n",
    "img = tf.io.read_file(image_path)\n",
    "\n",
    "img = tf.image.decode_jpeg(img, channels=3)\n",
    "img = tf.image.resize(img, [299, 299])\n",
    "img = tf.expand_dims(img, axis=0)\n",
    "#img = tf.cast(img, dtype=tf.float32)\n",
    "#img = tf.image.per_image_standardization(img)\n",
    "print(np.shape(img))\n"
   ]
  },
  {
   "cell_type": "code",
   "execution_count": 53,
   "metadata": {},
   "outputs": [],
   "source": [
    "img = tf.keras.applications.inception_v3.preprocess_input(img)"
   ]
  },
  {
   "cell_type": "code",
   "execution_count": 54,
   "metadata": {},
   "outputs": [
    {
     "name": "stdout",
     "output_type": "stream",
     "text": [
      "1/1 [==============================] - 1s 725ms/step\n",
      "horizontal_bar 0.1150581\n",
      "pedestal 0.053818397\n",
      "street_sign 0.052472092\n",
      "chime 0.04302151\n",
      "traffic_light 0.0218887\n",
      "chainlink_fence 0.016700128\n",
      "flagpole 0.015952164\n",
      "pole 0.015578488\n",
      "ashcan 0.013716926\n",
      "stove 0.011170182\n"
     ]
    }
   ],
   "source": [
    "# Realizar la predicción usando el modelo\n",
    "predictions = model.predict(img)\n",
    "\n",
    "# Obtenemos la clase con la mayor probabilidad\n",
    "class_id = np.argmax(predictions)\n",
    "\n",
    "# Imprimimos la clase de la imagen\n",
    "decoded_predictions = tf.keras.applications.inception_v3.decode_predictions(predictions, top=10)[0]\n",
    "for _, label, score in decoded_predictions:\n",
    "    print(label, score)\n"
   ]
  }
 ],
 "metadata": {
  "kernelspec": {
   "display_name": "Python 3",
   "language": "python",
   "name": "python3"
  },
  "language_info": {
   "codemirror_mode": {
    "name": "ipython",
    "version": 3
   },
   "file_extension": ".py",
   "mimetype": "text/x-python",
   "name": "python",
   "nbconvert_exporter": "python",
   "pygments_lexer": "ipython3",
   "version": "3.10.10"
  },
  "orig_nbformat": 4
 },
 "nbformat": 4,
 "nbformat_minor": 2
}
